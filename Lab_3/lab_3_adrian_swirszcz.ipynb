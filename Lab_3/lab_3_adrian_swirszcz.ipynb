{
 "cells": [
  {
   "cell_type": "code",
   "execution_count": 122,
   "metadata": {},
   "outputs": [],
   "source": [
    "from cmdstanpy import CmdStanModel\n",
    "import pandas as pd\n",
    "import arviz as az \n",
    "import numpy as np\n",
    "import matplotlib.pyplot as plt\n",
    "import scipy.stats as stats\n",
    "import math"
   ]
  },
  {
   "attachments": {},
   "cell_type": "markdown",
   "metadata": {},
   "source": [
    "### Exercise 1 - Modeling prior priedictive distribution"
   ]
  },
  {
   "cell_type": "code",
   "execution_count": 123,
   "metadata": {},
   "outputs": [
    {
     "name": "stderr",
     "output_type": "stream",
     "text": [
      "INFO:cmdstanpy:found newer exe file, not recompiling\n",
      "INFO:cmdstanpy:CmdStan start processing\n",
      "chain 1 |\u001b[34m██████████\u001b[0m| 00:00 Sampling completed"
     ]
    },
    {
     "name": "stdout",
     "output_type": "stream",
     "text": [
      "                                                                                "
     ]
    },
    {
     "name": "stderr",
     "output_type": "stream",
     "text": [
      "\n",
      "INFO:cmdstanpy:CmdStan done processing.\n"
     ]
    },
    {
     "name": "stdout",
     "output_type": "stream",
     "text": [
      "\n"
     ]
    }
   ],
   "source": [
    "gen_quant = CmdStanModel(stan_file='code_1.stan')\n",
    "samples = gen_quant.sample(fixed_param=True,\n",
    "                           iter_sampling=1000,\n",
    "                           iter_warmup=0, \n",
    "                           chains = 1)\n",
    "df = samples.draws_pd()\n",
    "df[\"y\"] = df[\"y\"] / df[\"N\"]\n",
    "mean = df[\"y\"].mean()"
   ]
  },
  {
   "cell_type": "code",
   "execution_count": 124,
   "metadata": {},
   "outputs": [
    {
     "data": {
      "image/png": "[encoded data removed]",
      "text/plain": [
       "<Figure size 648x432 with 1 Axes>"
      ]
     },
     "metadata": {
      "needs_background": "light"
     },
     "output_type": "display_data"
    },
    {
     "name": "stdout",
     "output_type": "stream",
     "text": [
      "Mean of the ratio is consistant with real-world knowledge\n"
     ]
    }
   ],
   "source": [
    "plt.figure(figsize=(9, 6))\n",
    "plt.hist(df[\"y\"], bins=\"auto\")\n",
    "axes = plt.gca()\n",
    "ylim = axes.get_ylim()\n",
    "plt.plot([mean, mean], [0, 1000], linewidth=3)\n",
    "axes.set_ylim(ylim)\n",
    "plt.title(\"Mean ratio of allergic reactions = {:.3f}\".format(mean))\n",
    "plt.xlabel(\"Ratio of alergic reactions\")\n",
    "plt.ylabel(\"Number of occurences\")\n",
    "plt.show()\n",
    "print(\"Mean of the ratio is consistant with real-world knowledge\")"
   ]
  },
  {
   "attachments": {},
   "cell_type": "markdown",
   "metadata": {},
   "source": [
    "### Exercise 2 - Modeling posterior and posterior predictive distribution"
   ]
  },
  {
   "cell_type": "code",
   "execution_count": 125,
   "metadata": {},
   "outputs": [
    {
     "name": "stderr",
     "output_type": "stream",
     "text": [
      "INFO:cmdstanpy:found newer exe file, not recompiling\n",
      "INFO:cmdstanpy:CmdStan start processing\n",
      "chain 1 |\u001b[34m██████████\u001b[0m| 00:00 Sampling completed"
     ]
    },
    {
     "name": "stdout",
     "output_type": "stream",
     "text": [
      "                                                                                "
     ]
    },
    {
     "name": "stderr",
     "output_type": "stream",
     "text": [
      "\n",
      "INFO:cmdstanpy:CmdStan done processing.\n"
     ]
    },
    {
     "name": "stdout",
     "output_type": "stream",
     "text": [
      "\n"
     ]
    }
   ],
   "source": [
    "gen_quant = CmdStanModel(stan_file='code_2.stan')\n",
    "samples = gen_quant.sample(data={\"N\": 50, \"y\": 2},\n",
    "                           fixed_param=True,\n",
    "                           iter_sampling=1000,\n",
    "                           iter_warmup=0, \n",
    "                           chains = 1)\n",
    "df = samples.draws_pd()\n",
    "df[\"y_pred\"] = df[\"y_pred\"] / 50"
   ]
  },
  {
   "cell_type": "code",
   "execution_count": 126,
   "metadata": {},
   "outputs": [
    {
     "data": {
      "image/png": "[encoded data removed]",
      "text/plain": [
       "<Figure size 648x432 with 1 Axes>"
      ]
     },
     "metadata": {
      "needs_background": "light"
     },
     "output_type": "display_data"
    }
   ],
   "source": [
    "plt.figure(figsize=(9, 6))\n",
    "plt.hist(df[\"y_pred\"], bins=\"auto\")\n",
    "plt.xlabel(\"Ratio of alergic reactions\")\n",
    "plt.ylabel(\"Number of occurences\")\n",
    "plt.show()"
   ]
  },
  {
   "cell_type": "code",
   "execution_count": 127,
   "metadata": {},
   "outputs": [
    {
     "name": "stdout",
     "output_type": "stream",
     "text": [
      "Expected ratio = 0.196\n",
      "94% density interval of the predicted ratio =  [0.1 0.3]\n",
      "\n",
      "Expected value of parameter p = 0.199\n",
      "94% density interval of the parameter p =  [0.198849 0.198849]\n",
      "\n",
      "Probability that ratio is lower than the average probability = 0.479\n"
     ]
    }
   ],
   "source": [
    "expexted_ratio = df[\"y_pred\"].mean()\n",
    "ratio_interval = az.hdi(df[\"y_pred\"].to_numpy(), credible_interval=0.94)\n",
    "\n",
    "expected_p = df[\"p\"].mean()\n",
    "p_interval = az.hdi(df[\"p\"].to_numpy(), credible_interval=0.94)\n",
    "\n",
    "prob_ratio_lower = np.sum(df[\"y_pred\"] < 0.2) / len(df[\"y_pred\"])\n",
    "\n",
    "print(\"Expected ratio = {:.3f}\".format(expexted_ratio))\n",
    "print(\"94% density interval of the predicted ratio = \", ratio_interval)\n",
    "\n",
    "print(\"\\nExpected value of parameter p = {:.3f}\".format(expected_p))\n",
    "print(\"94% density interval of the parameter p = \", p_interval)\n",
    "\n",
    "print(\"\\nProbability that ratio is lower than the average probability = {:.3f}\".format(prob_ratio_lower))"
   ]
  }
 ],
 "metadata": {
  "kernelspec": {
   "display_name": "Python 3",
   "language": "python",
   "name": "python3"
  },
  "language_info": {
   "codemirror_mode": {
    "name": "ipython",
    "version": 3
   },
   "file_extension": ".py",
   "mimetype": "text/x-python",
   "name": "python",
   "nbconvert_exporter": "python",
   "pygments_lexer": "ipython3",
   "version": "3.9.11"
  },
  "orig_nbformat": 4
 },
 "nbformat": 4,
 "nbformat_minor": 2
}
